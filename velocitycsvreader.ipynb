{
 "cells": [
  {
   "cell_type": "code",
   "execution_count": 45,
   "metadata": {},
   "outputs": [],
   "source": [
    "import pandas as pd\n",
    "velocity = pd.read_csv('~/Downloads/velocity1.csv')"
   ]
  },
  {
   "cell_type": "code",
   "execution_count": 42,
   "metadata": {},
   "outputs": [
    {
     "name": "stdout",
     "output_type": "stream",
     "text": [
      "Int64Index([0], dtype='int64')\n"
     ]
    }
   ],
   "source": [
    "print(velocity.keys())"
   ]
  },
  {
   "cell_type": "code",
   "execution_count": 48,
   "metadata": {},
   "outputs": [
    {
     "name": "stdout",
     "output_type": "stream",
     "text": [
      "     Assigned Vector Function:0\\tAssigned Vector Function:1\\tAssigned Vector Function:2\\tMag\\tPoints:0\\tPoints:1\\tPoints:2\\tvtkOriginalIndices\\t__vtkIsSelected__\n",
      "1     0.503683\\t0.00240524\\t0.00540204\\t0.503721\\t31...                                                                                                          \n",
      "2     0.31337\\t0.0034618\\t0.00508898\\t0.31343\\t31.5\\...                                                                                                          \n",
      "3     0.161218\\t0.000331938\\t0.00107878\\t0.161222\\t3...                                                                                                          \n",
      "4            0\\t0\\t0\\t0\\t31.5\\t-1.25098\\t0.823501\\t4\\t0                                                                                                          \n",
      "5            0\\t0\\t0\\t0\\t31.5\\t-1.30323\\t0.741652\\t5\\t0                                                                                                          \n",
      "...                                                 ...                                                                                                          \n",
      "1776  11.0626\\t-0.493442\\t0.0399412\\t11.0737\\t31.5\\t...                                                                                                          \n",
      "1777  10.9636\\t-0.607682\\t0.158921\\t10.9818\\t31.5\\t-...                                                                                                          \n",
      "1778  11.6988\\t-0.325979\\t0.147056\\t11.7043\\t31.5\\t0...                                                                                                          \n",
      "1779  9.71614\\t-0.296142\\t0.3368\\t9.72731\\t31.5\\t-0....                                                                                                          \n",
      "1780  10.5814\\t-0.225451\\t0.198286\\t10.5861\\t31.5\\t-...                                                                                                          \n",
      "\n",
      "[1780 rows x 1 columns]\n"
     ]
    }
   ],
   "source": [
    "print(velocity)"
   ]
  },
  {
   "cell_type": "code",
   "execution_count": 47,
   "metadata": {},
   "outputs": [
    {
     "name": "stdout",
     "output_type": "stream",
     "text": [
      "['     Assigned Vector Function:0\\\\tAssigned Vector Function:1\\\\tAssigned Vector Function:2\\\\tMag\\\\tPoints:0\\\\tPoints:1\\\\tPoints:2\\\\tvtkOriginalIndices\\\\t__vtkIsSelected__\\n0     0.503505\\\\t0.0046145\\\\t0.00749075\\\\t0.503584\\\\t31....                                                                                                          \\n1     0.503683\\\\t0.00240524\\\\t0.00540204\\\\t0.503721\\\\t31...                                                                                                          \\n2     0.31337\\\\t0.0034618\\\\t0.00508898\\\\t0.31343\\\\t31.5\\\\...                                                                                                          \\n3     0.161218\\\\t0.000331938\\\\t0.00107878\\\\t0.161222\\\\t3...                                                                                                          \\n4            0\\\\t0\\\\t0\\\\t0\\\\t31.5\\\\t-1.25098\\\\t0.823501\\\\t4\\\\t0                                                                                                          \\n...                                                 ...                                                                                                          \\n1776  11.0626\\\\t-0.493442\\\\t0.0399412\\\\t11.0737\\\\t31.5\\\\t...                                                                                                          \\n1777  10.9636\\\\t-0.607682\\\\t0.158921\\\\t10.9818\\\\t31.5\\\\t-...                                                                                                          \\n1778  11.6988\\\\t-0.325979\\\\t0.147056\\\\t11.7043\\\\t31.5\\\\t0...                                                                                                          \\n1779  9.71614\\\\t-0.296142\\\\t0.3368\\\\t9.72731\\\\t31.5\\\\t-0....                                                                                                          \\n1780  10.5814\\\\t-0.225451\\\\t0.198286\\\\t10.5861\\\\t31.5\\\\t-...                                                                                                          \\n\\n[1781 rows x 1 columns]']\n"
     ]
    }
   ],
   "source": [
    "df = pd.DataFrame()\n",
    "#keys_ = velocity.keys().__str__().split('\\t')\n",
    "#print(keys_)\n",
    "\n",
    "print(velocity.__str__().split('\\t', 4))"
   ]
  },
  {
   "cell_type": "code",
   "execution_count": null,
   "metadata": {},
   "outputs": [],
   "source": []
  }
 ],
 "metadata": {
  "kernelspec": {
   "display_name": "Python 3",
   "language": "python",
   "name": "python3"
  },
  "language_info": {
   "codemirror_mode": {
    "name": "ipython",
    "version": 3
   },
   "file_extension": ".py",
   "mimetype": "text/x-python",
   "name": "python",
   "nbconvert_exporter": "python",
   "pygments_lexer": "ipython3",
   "version": "3.11.4"
  },
  "orig_nbformat": 4
 },
 "nbformat": 4,
 "nbformat_minor": 2
}
